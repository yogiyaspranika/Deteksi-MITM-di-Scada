{
  "nbformat": 4,
  "nbformat_minor": 0,
  "metadata": {
    "colab": {
      "name": "TA2_MITM_Scada.ipynb",
      "provenance": [],
      "collapsed_sections": []
    },
    "kernelspec": {
      "name": "python3",
      "display_name": "Python 3"
    }
  },
  "cells": [
    {
      "cell_type": "code",
      "metadata": {
        "id": "5j98iztuPNDt",
        "outputId": "2b846179-b26d-49ce-db35-0e979d4eaba3",
        "colab": {
          "base_uri": "https://localhost:8080/",
          "height": 34
        }
      },
      "source": [
        "from google.colab import drive\n",
        "drive.mount('/content/drive/')"
      ],
      "execution_count": null,
      "outputs": [
        {
          "output_type": "stream",
          "text": [
            "Drive already mounted at /content/drive/; to attempt to forcibly remount, call drive.mount(\"/content/drive/\", force_remount=True).\n"
          ],
          "name": "stdout"
        }
      ]
    },
    {
      "cell_type": "code",
      "metadata": {
        "id": "_MxQpM49PN6D",
        "outputId": "a304ca2b-1895-487d-a146-d21dd85addbe",
        "colab": {
          "base_uri": "https://localhost:8080/",
          "height": 191
        }
      },
      "source": [
        "!ls \"/content/drive/My Drive/Datasets/\""
      ],
      "execution_count": null,
      "outputs": [
        {
          "output_type": "stream",
          "text": [
            " 104asdu.csv\t\t\t data_ekstraksi_TA1normal.csv\n",
            " 104asdu.pcap\t\t\t data_ekstraksi_TA1serangan.csv\n",
            " baru.csv\t\t\t'iec104 (copy).csv'\n",
            " data_ekstraksi1.csv\t\t iec104.csv\n",
            " data_ekstraksi.csv\t\t iec104_fix.csv\n",
            " data_ekstraksi_filter.csv\t iec104_labelling.csv\n",
            " data_ekstraksi_gabung.csv\t iec104_labelling_modif.csv\n",
            " data_ekstraksi_gabungedit.csv\t model.h5\n",
            " data_ekstraksi_normal.csv\t model.json\n",
            " data_ekstraksi_serangan.csv\n"
          ],
          "name": "stdout"
        }
      ]
    },
    {
      "cell_type": "code",
      "metadata": {
        "id": "6g-CqS-wPaTd",
        "outputId": "36efd758-b828-4e47-f56d-64bcad08fbe7",
        "colab": {
          "base_uri": "https://localhost:8080/",
          "height": 141
        }
      },
      "source": [
        "#LIBRARY\n",
        "import numpy as np\n",
        "from numpy import where\n",
        "import pandas as pd\n",
        "from collections import Counter\n",
        "import matplotlib.pyplot as plt\n",
        "from sklearn.model_selection import train_test_split\n",
        "\n",
        "from imblearn.over_sampling import SMOTE\n",
        "from sklearn.preprocessing import StandardScaler\n",
        "from sklearn.preprocessing import MinMaxScaler\n",
        "%tensorflow_version 1.x\n",
        "#import tensorflow\n",
        "from keras.models import Sequential\n",
        "from keras.layers import Dense, Dropout\n",
        "from keras.utils.np_utils import to_categorical\n",
        "\n",
        "from sklearn.metrics import classification_report\n",
        "from sklearn.metrics import confusion_matrix"
      ],
      "execution_count": null,
      "outputs": [
        {
          "output_type": "stream",
          "text": [
            "/usr/local/lib/python3.6/dist-packages/sklearn/externals/six.py:31: FutureWarning: The module is deprecated in version 0.21 and will be removed in version 0.23 since we've dropped support for Python 2.7. Please rely on the official version of six (https://pypi.org/project/six/).\n",
            "  \"(https://pypi.org/project/six/).\", FutureWarning)\n",
            "/usr/local/lib/python3.6/dist-packages/sklearn/utils/deprecation.py:144: FutureWarning: The sklearn.neighbors.base module is  deprecated in version 0.22 and will be removed in version 0.24. The corresponding classes / functions should instead be imported from sklearn.neighbors. Anything that cannot be imported from sklearn.neighbors is now part of the private API.\n",
            "  warnings.warn(message, FutureWarning)\n"
          ],
          "name": "stderr"
        },
        {
          "output_type": "stream",
          "text": [
            "TensorFlow 1.x selected.\n"
          ],
          "name": "stdout"
        },
        {
          "output_type": "stream",
          "text": [
            "Using TensorFlow backend.\n"
          ],
          "name": "stderr"
        }
      ]
    },
    {
      "cell_type": "code",
      "metadata": {
        "id": "DZSNcFWkPf7I"
      },
      "source": [
        "#baca training dataset dari google drive\n",
        "mitm = pd.read_csv(\"/content/drive/My Drive/Datasets/data_ekstraksi_gabungedit.csv\")"
      ],
      "execution_count": null,
      "outputs": []
    },
    {
      "cell_type": "code",
      "metadata": {
        "id": "8YYYQyOfPjeG",
        "outputId": "458d03de-1b30-4246-8a2c-ecebcc4f8338",
        "colab": {
          "base_uri": "https://localhost:8080/",
          "height": 791
        }
      },
      "source": [
        "mitm"
      ],
      "execution_count": null,
      "outputs": [
        {
          "output_type": "execute_result",
          "data": {
            "text/html": [
              "<div>\n",
              "<style scoped>\n",
              "    .dataframe tbody tr th:only-of-type {\n",
              "        vertical-align: middle;\n",
              "    }\n",
              "\n",
              "    .dataframe tbody tr th {\n",
              "        vertical-align: top;\n",
              "    }\n",
              "\n",
              "    .dataframe thead th {\n",
              "        text-align: right;\n",
              "    }\n",
              "</style>\n",
              "<table border=\"1\" class=\"dataframe\">\n",
              "  <thead>\n",
              "    <tr style=\"text-align: right;\">\n",
              "      <th></th>\n",
              "      <th>frame</th>\n",
              "      <th>frame_len</th>\n",
              "      <th>time</th>\n",
              "      <th>src_ip</th>\n",
              "      <th>dst_ip</th>\n",
              "      <th>ttl</th>\n",
              "      <th>tot_len</th>\n",
              "      <th>ip_id</th>\n",
              "      <th>src_port</th>\n",
              "      <th>dst_port</th>\n",
              "      <th>win_size</th>\n",
              "      <th>apdu_len</th>\n",
              "      <th>type</th>\n",
              "      <th>type_id</th>\n",
              "      <th>causeTx</th>\n",
              "      <th>asdu_add</th>\n",
              "      <th>label</th>\n",
              "    </tr>\n",
              "  </thead>\n",
              "  <tbody>\n",
              "    <tr>\n",
              "      <th>0</th>\n",
              "      <td>1</td>\n",
              "      <td>82</td>\n",
              "      <td>Apr 10, 2018 19:32:21.536524000 WIB</td>\n",
              "      <td>10.50.50.150</td>\n",
              "      <td>10.50.50.105</td>\n",
              "      <td>64</td>\n",
              "      <td>68</td>\n",
              "      <td>35948</td>\n",
              "      <td>45244</td>\n",
              "      <td>2404</td>\n",
              "      <td>229</td>\n",
              "      <td>14</td>\n",
              "      <td>0</td>\n",
              "      <td>100</td>\n",
              "      <td>6</td>\n",
              "      <td>3</td>\n",
              "      <td>0</td>\n",
              "    </tr>\n",
              "    <tr>\n",
              "      <th>1</th>\n",
              "      <td>2</td>\n",
              "      <td>82</td>\n",
              "      <td>Apr 10, 2018 19:32:21.536533000 WIB</td>\n",
              "      <td>10.50.50.150</td>\n",
              "      <td>10.50.50.103</td>\n",
              "      <td>64</td>\n",
              "      <td>68</td>\n",
              "      <td>33253</td>\n",
              "      <td>60416</td>\n",
              "      <td>2404</td>\n",
              "      <td>229</td>\n",
              "      <td>14</td>\n",
              "      <td>0</td>\n",
              "      <td>100</td>\n",
              "      <td>6</td>\n",
              "      <td>3</td>\n",
              "      <td>0</td>\n",
              "    </tr>\n",
              "    <tr>\n",
              "      <th>2</th>\n",
              "      <td>3</td>\n",
              "      <td>82</td>\n",
              "      <td>Apr 10, 2018 19:32:21.536871000 WIB</td>\n",
              "      <td>10.50.50.150</td>\n",
              "      <td>10.50.50.101</td>\n",
              "      <td>64</td>\n",
              "      <td>68</td>\n",
              "      <td>28769</td>\n",
              "      <td>36482</td>\n",
              "      <td>2404</td>\n",
              "      <td>229</td>\n",
              "      <td>14</td>\n",
              "      <td>0</td>\n",
              "      <td>100</td>\n",
              "      <td>6</td>\n",
              "      <td>3</td>\n",
              "      <td>0</td>\n",
              "    </tr>\n",
              "    <tr>\n",
              "      <th>3</th>\n",
              "      <td>4</td>\n",
              "      <td>82</td>\n",
              "      <td>Apr 10, 2018 19:32:21.537122000 WIB</td>\n",
              "      <td>10.50.50.150</td>\n",
              "      <td>10.50.50.102</td>\n",
              "      <td>64</td>\n",
              "      <td>68</td>\n",
              "      <td>62002</td>\n",
              "      <td>58674</td>\n",
              "      <td>2404</td>\n",
              "      <td>229</td>\n",
              "      <td>14</td>\n",
              "      <td>0</td>\n",
              "      <td>100</td>\n",
              "      <td>6</td>\n",
              "      <td>3</td>\n",
              "      <td>0</td>\n",
              "    </tr>\n",
              "    <tr>\n",
              "      <th>4</th>\n",
              "      <td>5</td>\n",
              "      <td>82</td>\n",
              "      <td>Apr 10, 2018 19:32:21.537624000 WIB</td>\n",
              "      <td>10.50.50.150</td>\n",
              "      <td>10.50.50.104</td>\n",
              "      <td>64</td>\n",
              "      <td>68</td>\n",
              "      <td>52664</td>\n",
              "      <td>35398</td>\n",
              "      <td>2404</td>\n",
              "      <td>229</td>\n",
              "      <td>14</td>\n",
              "      <td>0</td>\n",
              "      <td>100</td>\n",
              "      <td>6</td>\n",
              "      <td>3</td>\n",
              "      <td>0</td>\n",
              "    </tr>\n",
              "    <tr>\n",
              "      <th>...</th>\n",
              "      <td>...</td>\n",
              "      <td>...</td>\n",
              "      <td>...</td>\n",
              "      <td>...</td>\n",
              "      <td>...</td>\n",
              "      <td>...</td>\n",
              "      <td>...</td>\n",
              "      <td>...</td>\n",
              "      <td>...</td>\n",
              "      <td>...</td>\n",
              "      <td>...</td>\n",
              "      <td>...</td>\n",
              "      <td>...</td>\n",
              "      <td>...</td>\n",
              "      <td>...</td>\n",
              "      <td>...</td>\n",
              "      <td>...</td>\n",
              "    </tr>\n",
              "    <tr>\n",
              "      <th>35810</th>\n",
              "      <td>35811</td>\n",
              "      <td>88</td>\n",
              "      <td>Apr 10, 2018 21:59:13.533108000 WIB</td>\n",
              "      <td>10.50.50.105</td>\n",
              "      <td>10.50.50.150</td>\n",
              "      <td>64</td>\n",
              "      <td>74</td>\n",
              "      <td>59657</td>\n",
              "      <td>2404</td>\n",
              "      <td>45244</td>\n",
              "      <td>453</td>\n",
              "      <td>20</td>\n",
              "      <td>0</td>\n",
              "      <td>103</td>\n",
              "      <td>7</td>\n",
              "      <td>3</td>\n",
              "      <td>0</td>\n",
              "    </tr>\n",
              "    <tr>\n",
              "      <th>35811</th>\n",
              "      <td>35812</td>\n",
              "      <td>82</td>\n",
              "      <td>Apr 10, 2018 21:59:13.533206000 WIB</td>\n",
              "      <td>10.50.50.150</td>\n",
              "      <td>10.50.50.103</td>\n",
              "      <td>64</td>\n",
              "      <td>68</td>\n",
              "      <td>42001</td>\n",
              "      <td>60416</td>\n",
              "      <td>2404</td>\n",
              "      <td>229</td>\n",
              "      <td>14</td>\n",
              "      <td>0</td>\n",
              "      <td>100</td>\n",
              "      <td>6</td>\n",
              "      <td>3</td>\n",
              "      <td>0</td>\n",
              "    </tr>\n",
              "    <tr>\n",
              "      <th>35812</th>\n",
              "      <td>35813</td>\n",
              "      <td>82</td>\n",
              "      <td>Apr 10, 2018 21:59:13.533211000 WIB</td>\n",
              "      <td>10.50.50.150</td>\n",
              "      <td>10.50.50.105</td>\n",
              "      <td>64</td>\n",
              "      <td>68</td>\n",
              "      <td>44735</td>\n",
              "      <td>45244</td>\n",
              "      <td>2404</td>\n",
              "      <td>229</td>\n",
              "      <td>14</td>\n",
              "      <td>0</td>\n",
              "      <td>100</td>\n",
              "      <td>6</td>\n",
              "      <td>3</td>\n",
              "      <td>0</td>\n",
              "    </tr>\n",
              "    <tr>\n",
              "      <th>35813</th>\n",
              "      <td>35814</td>\n",
              "      <td>100</td>\n",
              "      <td>Apr 10, 2018 21:59:13.574424000 WIB</td>\n",
              "      <td>10.50.50.103</td>\n",
              "      <td>10.50.50.150</td>\n",
              "      <td>64</td>\n",
              "      <td>86</td>\n",
              "      <td>5808</td>\n",
              "      <td>2404</td>\n",
              "      <td>60416</td>\n",
              "      <td>453</td>\n",
              "      <td>16</td>\n",
              "      <td>0</td>\n",
              "      <td>11</td>\n",
              "      <td>20</td>\n",
              "      <td>3</td>\n",
              "      <td>0</td>\n",
              "    </tr>\n",
              "    <tr>\n",
              "      <th>35814</th>\n",
              "      <td>35815</td>\n",
              "      <td>100</td>\n",
              "      <td>Apr 10, 2018 21:59:13.574432000 WIB</td>\n",
              "      <td>10.50.50.105</td>\n",
              "      <td>10.50.50.150</td>\n",
              "      <td>64</td>\n",
              "      <td>86</td>\n",
              "      <td>59658</td>\n",
              "      <td>2404</td>\n",
              "      <td>45244</td>\n",
              "      <td>453</td>\n",
              "      <td>16</td>\n",
              "      <td>0</td>\n",
              "      <td>11</td>\n",
              "      <td>20</td>\n",
              "      <td>3</td>\n",
              "      <td>0</td>\n",
              "    </tr>\n",
              "  </tbody>\n",
              "</table>\n",
              "<p>35815 rows × 17 columns</p>\n",
              "</div>"
            ],
            "text/plain": [
              "       frame  frame_len  ... asdu_add label\n",
              "0          1         82  ...        3     0\n",
              "1          2         82  ...        3     0\n",
              "2          3         82  ...        3     0\n",
              "3          4         82  ...        3     0\n",
              "4          5         82  ...        3     0\n",
              "...      ...        ...  ...      ...   ...\n",
              "35810  35811         88  ...        3     0\n",
              "35811  35812         82  ...        3     0\n",
              "35812  35813         82  ...        3     0\n",
              "35813  35814        100  ...        3     0\n",
              "35814  35815        100  ...        3     0\n",
              "\n",
              "[35815 rows x 17 columns]"
            ]
          },
          "metadata": {
            "tags": []
          },
          "execution_count": 5
        }
      ]
    },
    {
      "cell_type": "code",
      "metadata": {
        "id": "bgyFYIhBR21u"
      },
      "source": [
        "colm = ['frame','time','src_ip','dst_ip','src_port','dst_port']\n",
        "mitm.drop(colm,axis=1,inplace=True)"
      ],
      "execution_count": null,
      "outputs": []
    },
    {
      "cell_type": "code",
      "metadata": {
        "id": "aOkk1V9kSRUE",
        "outputId": "74181231-3ac0-467f-9741-55839010cba4",
        "colab": {
          "base_uri": "https://localhost:8080/",
          "height": 424
        }
      },
      "source": [
        "mitm"
      ],
      "execution_count": null,
      "outputs": [
        {
          "output_type": "execute_result",
          "data": {
            "text/html": [
              "<div>\n",
              "<style scoped>\n",
              "    .dataframe tbody tr th:only-of-type {\n",
              "        vertical-align: middle;\n",
              "    }\n",
              "\n",
              "    .dataframe tbody tr th {\n",
              "        vertical-align: top;\n",
              "    }\n",
              "\n",
              "    .dataframe thead th {\n",
              "        text-align: right;\n",
              "    }\n",
              "</style>\n",
              "<table border=\"1\" class=\"dataframe\">\n",
              "  <thead>\n",
              "    <tr style=\"text-align: right;\">\n",
              "      <th></th>\n",
              "      <th>frame_len</th>\n",
              "      <th>ttl</th>\n",
              "      <th>tot_len</th>\n",
              "      <th>ip_id</th>\n",
              "      <th>win_size</th>\n",
              "      <th>apdu_len</th>\n",
              "      <th>type</th>\n",
              "      <th>type_id</th>\n",
              "      <th>causeTx</th>\n",
              "      <th>asdu_add</th>\n",
              "      <th>label</th>\n",
              "    </tr>\n",
              "  </thead>\n",
              "  <tbody>\n",
              "    <tr>\n",
              "      <th>0</th>\n",
              "      <td>82</td>\n",
              "      <td>64</td>\n",
              "      <td>68</td>\n",
              "      <td>35948</td>\n",
              "      <td>229</td>\n",
              "      <td>14</td>\n",
              "      <td>0</td>\n",
              "      <td>100</td>\n",
              "      <td>6</td>\n",
              "      <td>3</td>\n",
              "      <td>0</td>\n",
              "    </tr>\n",
              "    <tr>\n",
              "      <th>1</th>\n",
              "      <td>82</td>\n",
              "      <td>64</td>\n",
              "      <td>68</td>\n",
              "      <td>33253</td>\n",
              "      <td>229</td>\n",
              "      <td>14</td>\n",
              "      <td>0</td>\n",
              "      <td>100</td>\n",
              "      <td>6</td>\n",
              "      <td>3</td>\n",
              "      <td>0</td>\n",
              "    </tr>\n",
              "    <tr>\n",
              "      <th>2</th>\n",
              "      <td>82</td>\n",
              "      <td>64</td>\n",
              "      <td>68</td>\n",
              "      <td>28769</td>\n",
              "      <td>229</td>\n",
              "      <td>14</td>\n",
              "      <td>0</td>\n",
              "      <td>100</td>\n",
              "      <td>6</td>\n",
              "      <td>3</td>\n",
              "      <td>0</td>\n",
              "    </tr>\n",
              "    <tr>\n",
              "      <th>3</th>\n",
              "      <td>82</td>\n",
              "      <td>64</td>\n",
              "      <td>68</td>\n",
              "      <td>62002</td>\n",
              "      <td>229</td>\n",
              "      <td>14</td>\n",
              "      <td>0</td>\n",
              "      <td>100</td>\n",
              "      <td>6</td>\n",
              "      <td>3</td>\n",
              "      <td>0</td>\n",
              "    </tr>\n",
              "    <tr>\n",
              "      <th>4</th>\n",
              "      <td>82</td>\n",
              "      <td>64</td>\n",
              "      <td>68</td>\n",
              "      <td>52664</td>\n",
              "      <td>229</td>\n",
              "      <td>14</td>\n",
              "      <td>0</td>\n",
              "      <td>100</td>\n",
              "      <td>6</td>\n",
              "      <td>3</td>\n",
              "      <td>0</td>\n",
              "    </tr>\n",
              "    <tr>\n",
              "      <th>...</th>\n",
              "      <td>...</td>\n",
              "      <td>...</td>\n",
              "      <td>...</td>\n",
              "      <td>...</td>\n",
              "      <td>...</td>\n",
              "      <td>...</td>\n",
              "      <td>...</td>\n",
              "      <td>...</td>\n",
              "      <td>...</td>\n",
              "      <td>...</td>\n",
              "      <td>...</td>\n",
              "    </tr>\n",
              "    <tr>\n",
              "      <th>35810</th>\n",
              "      <td>88</td>\n",
              "      <td>64</td>\n",
              "      <td>74</td>\n",
              "      <td>59657</td>\n",
              "      <td>453</td>\n",
              "      <td>20</td>\n",
              "      <td>0</td>\n",
              "      <td>103</td>\n",
              "      <td>7</td>\n",
              "      <td>3</td>\n",
              "      <td>0</td>\n",
              "    </tr>\n",
              "    <tr>\n",
              "      <th>35811</th>\n",
              "      <td>82</td>\n",
              "      <td>64</td>\n",
              "      <td>68</td>\n",
              "      <td>42001</td>\n",
              "      <td>229</td>\n",
              "      <td>14</td>\n",
              "      <td>0</td>\n",
              "      <td>100</td>\n",
              "      <td>6</td>\n",
              "      <td>3</td>\n",
              "      <td>0</td>\n",
              "    </tr>\n",
              "    <tr>\n",
              "      <th>35812</th>\n",
              "      <td>82</td>\n",
              "      <td>64</td>\n",
              "      <td>68</td>\n",
              "      <td>44735</td>\n",
              "      <td>229</td>\n",
              "      <td>14</td>\n",
              "      <td>0</td>\n",
              "      <td>100</td>\n",
              "      <td>6</td>\n",
              "      <td>3</td>\n",
              "      <td>0</td>\n",
              "    </tr>\n",
              "    <tr>\n",
              "      <th>35813</th>\n",
              "      <td>100</td>\n",
              "      <td>64</td>\n",
              "      <td>86</td>\n",
              "      <td>5808</td>\n",
              "      <td>453</td>\n",
              "      <td>16</td>\n",
              "      <td>0</td>\n",
              "      <td>11</td>\n",
              "      <td>20</td>\n",
              "      <td>3</td>\n",
              "      <td>0</td>\n",
              "    </tr>\n",
              "    <tr>\n",
              "      <th>35814</th>\n",
              "      <td>100</td>\n",
              "      <td>64</td>\n",
              "      <td>86</td>\n",
              "      <td>59658</td>\n",
              "      <td>453</td>\n",
              "      <td>16</td>\n",
              "      <td>0</td>\n",
              "      <td>11</td>\n",
              "      <td>20</td>\n",
              "      <td>3</td>\n",
              "      <td>0</td>\n",
              "    </tr>\n",
              "  </tbody>\n",
              "</table>\n",
              "<p>35815 rows × 11 columns</p>\n",
              "</div>"
            ],
            "text/plain": [
              "       frame_len  ttl  tot_len  ip_id  ...  type_id  causeTx  asdu_add  label\n",
              "0             82   64       68  35948  ...      100        6         3      0\n",
              "1             82   64       68  33253  ...      100        6         3      0\n",
              "2             82   64       68  28769  ...      100        6         3      0\n",
              "3             82   64       68  62002  ...      100        6         3      0\n",
              "4             82   64       68  52664  ...      100        6         3      0\n",
              "...          ...  ...      ...    ...  ...      ...      ...       ...    ...\n",
              "35810         88   64       74  59657  ...      103        7         3      0\n",
              "35811         82   64       68  42001  ...      100        6         3      0\n",
              "35812         82   64       68  44735  ...      100        6         3      0\n",
              "35813        100   64       86   5808  ...       11       20         3      0\n",
              "35814        100   64       86  59658  ...       11       20         3      0\n",
              "\n",
              "[35815 rows x 11 columns]"
            ]
          },
          "metadata": {
            "tags": []
          },
          "execution_count": 7
        }
      ]
    },
    {
      "cell_type": "code",
      "metadata": {
        "id": "431brXgRAJBE",
        "outputId": "e71a4d0f-8ba3-4499-c032-9e8e0da90f99",
        "colab": {
          "base_uri": "https://localhost:8080/",
          "height": 243
        }
      },
      "source": [
        "sc = StandardScaler()\n",
        "mitm_scal = sc.fit_transform(mitm)\n",
        "mitm_scal"
      ],
      "execution_count": null,
      "outputs": [
        {
          "output_type": "execute_result",
          "data": {
            "text/plain": [
              "array([[-1.09921986,  0.00528413, -1.09401257, ..., -0.55549827,\n",
              "        -0.02046929, -0.18578918],\n",
              "       [-1.09921986,  0.00528413, -1.09401257, ..., -0.55549827,\n",
              "        -0.02046929, -0.18578918],\n",
              "       [-1.09921986,  0.00528413, -1.09401257, ..., -0.55549827,\n",
              "        -0.02046929, -0.18578918],\n",
              "       ...,\n",
              "       [-1.09921986,  0.00528413, -1.09401257, ..., -0.55549827,\n",
              "        -0.02046929, -0.18578918],\n",
              "       [ 1.83800168,  0.00528413,  1.83108897, ...,  1.17719631,\n",
              "        -0.02046929, -0.18578918],\n",
              "       [ 1.83800168,  0.00528413,  1.83108897, ...,  1.17719631,\n",
              "        -0.02046929, -0.18578918]])"
            ]
          },
          "metadata": {
            "tags": []
          },
          "execution_count": 8
        }
      ]
    },
    {
      "cell_type": "code",
      "metadata": {
        "id": "iVNcloeBAoHJ",
        "outputId": "166fedaf-d260-4e79-ff5d-96790719a8f2",
        "colab": {
          "base_uri": "https://localhost:8080/",
          "height": 424
        }
      },
      "source": [
        "mitm_sca = pd.DataFrame(data=mitm_scal,columns=[\"frame_len\",\"ttl\",\"tot_len\",\"ip_id\",\"win_size\",\"apdu_len\",\"type\",\"type_id\",\"causeTX\",\"asdu_add\",\"label\"])\n",
        "mitm_sca"
      ],
      "execution_count": null,
      "outputs": [
        {
          "output_type": "execute_result",
          "data": {
            "text/html": [
              "<div>\n",
              "<style scoped>\n",
              "    .dataframe tbody tr th:only-of-type {\n",
              "        vertical-align: middle;\n",
              "    }\n",
              "\n",
              "    .dataframe tbody tr th {\n",
              "        vertical-align: top;\n",
              "    }\n",
              "\n",
              "    .dataframe thead th {\n",
              "        text-align: right;\n",
              "    }\n",
              "</style>\n",
              "<table border=\"1\" class=\"dataframe\">\n",
              "  <thead>\n",
              "    <tr style=\"text-align: right;\">\n",
              "      <th></th>\n",
              "      <th>frame_len</th>\n",
              "      <th>ttl</th>\n",
              "      <th>tot_len</th>\n",
              "      <th>ip_id</th>\n",
              "      <th>win_size</th>\n",
              "      <th>apdu_len</th>\n",
              "      <th>type</th>\n",
              "      <th>type_id</th>\n",
              "      <th>causeTX</th>\n",
              "      <th>asdu_add</th>\n",
              "      <th>label</th>\n",
              "    </tr>\n",
              "  </thead>\n",
              "  <tbody>\n",
              "    <tr>\n",
              "      <th>0</th>\n",
              "      <td>-1.099220</td>\n",
              "      <td>0.005284</td>\n",
              "      <td>-1.094013</td>\n",
              "      <td>0.012965</td>\n",
              "      <td>-0.204476</td>\n",
              "      <td>-1.316703</td>\n",
              "      <td>0.0</td>\n",
              "      <td>0.521464</td>\n",
              "      <td>-0.555498</td>\n",
              "      <td>-0.020469</td>\n",
              "      <td>-0.185789</td>\n",
              "    </tr>\n",
              "    <tr>\n",
              "      <th>1</th>\n",
              "      <td>-1.099220</td>\n",
              "      <td>0.005284</td>\n",
              "      <td>-1.094013</td>\n",
              "      <td>-0.132944</td>\n",
              "      <td>-0.204476</td>\n",
              "      <td>-1.316703</td>\n",
              "      <td>0.0</td>\n",
              "      <td>0.521464</td>\n",
              "      <td>-0.555498</td>\n",
              "      <td>-0.020469</td>\n",
              "      <td>-0.185789</td>\n",
              "    </tr>\n",
              "    <tr>\n",
              "      <th>2</th>\n",
              "      <td>-1.099220</td>\n",
              "      <td>0.005284</td>\n",
              "      <td>-1.094013</td>\n",
              "      <td>-0.375711</td>\n",
              "      <td>-0.204476</td>\n",
              "      <td>-1.316703</td>\n",
              "      <td>0.0</td>\n",
              "      <td>0.521464</td>\n",
              "      <td>-0.555498</td>\n",
              "      <td>-0.020469</td>\n",
              "      <td>-0.185789</td>\n",
              "    </tr>\n",
              "    <tr>\n",
              "      <th>3</th>\n",
              "      <td>-1.099220</td>\n",
              "      <td>0.005284</td>\n",
              "      <td>-1.094013</td>\n",
              "      <td>1.423545</td>\n",
              "      <td>-0.204476</td>\n",
              "      <td>-1.316703</td>\n",
              "      <td>0.0</td>\n",
              "      <td>0.521464</td>\n",
              "      <td>-0.555498</td>\n",
              "      <td>-0.020469</td>\n",
              "      <td>-0.185789</td>\n",
              "    </tr>\n",
              "    <tr>\n",
              "      <th>4</th>\n",
              "      <td>-1.099220</td>\n",
              "      <td>0.005284</td>\n",
              "      <td>-1.094013</td>\n",
              "      <td>0.917980</td>\n",
              "      <td>-0.204476</td>\n",
              "      <td>-1.316703</td>\n",
              "      <td>0.0</td>\n",
              "      <td>0.521464</td>\n",
              "      <td>-0.555498</td>\n",
              "      <td>-0.020469</td>\n",
              "      <td>-0.185789</td>\n",
              "    </tr>\n",
              "    <tr>\n",
              "      <th>...</th>\n",
              "      <td>...</td>\n",
              "      <td>...</td>\n",
              "      <td>...</td>\n",
              "      <td>...</td>\n",
              "      <td>...</td>\n",
              "      <td>...</td>\n",
              "      <td>...</td>\n",
              "      <td>...</td>\n",
              "      <td>...</td>\n",
              "      <td>...</td>\n",
              "      <td>...</td>\n",
              "    </tr>\n",
              "    <tr>\n",
              "      <th>35810</th>\n",
              "      <td>-0.120146</td>\n",
              "      <td>0.005284</td>\n",
              "      <td>-0.118979</td>\n",
              "      <td>1.296585</td>\n",
              "      <td>-0.165989</td>\n",
              "      <td>0.977332</td>\n",
              "      <td>0.0</td>\n",
              "      <td>0.597971</td>\n",
              "      <td>-0.431734</td>\n",
              "      <td>-0.020469</td>\n",
              "      <td>-0.185789</td>\n",
              "    </tr>\n",
              "    <tr>\n",
              "      <th>35811</th>\n",
              "      <td>-1.099220</td>\n",
              "      <td>0.005284</td>\n",
              "      <td>-1.094013</td>\n",
              "      <td>0.340678</td>\n",
              "      <td>-0.204476</td>\n",
              "      <td>-1.316703</td>\n",
              "      <td>0.0</td>\n",
              "      <td>0.521464</td>\n",
              "      <td>-0.555498</td>\n",
              "      <td>-0.020469</td>\n",
              "      <td>-0.185789</td>\n",
              "    </tr>\n",
              "    <tr>\n",
              "      <th>35812</th>\n",
              "      <td>-1.099220</td>\n",
              "      <td>0.005284</td>\n",
              "      <td>-1.094013</td>\n",
              "      <td>0.488699</td>\n",
              "      <td>-0.204476</td>\n",
              "      <td>-1.316703</td>\n",
              "      <td>0.0</td>\n",
              "      <td>0.521464</td>\n",
              "      <td>-0.555498</td>\n",
              "      <td>-0.020469</td>\n",
              "      <td>-0.185789</td>\n",
              "    </tr>\n",
              "    <tr>\n",
              "      <th>35813</th>\n",
              "      <td>1.838002</td>\n",
              "      <td>0.005284</td>\n",
              "      <td>1.831089</td>\n",
              "      <td>-1.618833</td>\n",
              "      <td>-0.165989</td>\n",
              "      <td>-0.552025</td>\n",
              "      <td>0.0</td>\n",
              "      <td>-1.748268</td>\n",
              "      <td>1.177196</td>\n",
              "      <td>-0.020469</td>\n",
              "      <td>-0.185789</td>\n",
              "    </tr>\n",
              "    <tr>\n",
              "      <th>35814</th>\n",
              "      <td>1.838002</td>\n",
              "      <td>0.005284</td>\n",
              "      <td>1.831089</td>\n",
              "      <td>1.296639</td>\n",
              "      <td>-0.165989</td>\n",
              "      <td>-0.552025</td>\n",
              "      <td>0.0</td>\n",
              "      <td>-1.748268</td>\n",
              "      <td>1.177196</td>\n",
              "      <td>-0.020469</td>\n",
              "      <td>-0.185789</td>\n",
              "    </tr>\n",
              "  </tbody>\n",
              "</table>\n",
              "<p>35815 rows × 11 columns</p>\n",
              "</div>"
            ],
            "text/plain": [
              "       frame_len       ttl   tot_len  ...   causeTX  asdu_add     label\n",
              "0      -1.099220  0.005284 -1.094013  ... -0.555498 -0.020469 -0.185789\n",
              "1      -1.099220  0.005284 -1.094013  ... -0.555498 -0.020469 -0.185789\n",
              "2      -1.099220  0.005284 -1.094013  ... -0.555498 -0.020469 -0.185789\n",
              "3      -1.099220  0.005284 -1.094013  ... -0.555498 -0.020469 -0.185789\n",
              "4      -1.099220  0.005284 -1.094013  ... -0.555498 -0.020469 -0.185789\n",
              "...          ...       ...       ...  ...       ...       ...       ...\n",
              "35810  -0.120146  0.005284 -0.118979  ... -0.431734 -0.020469 -0.185789\n",
              "35811  -1.099220  0.005284 -1.094013  ... -0.555498 -0.020469 -0.185789\n",
              "35812  -1.099220  0.005284 -1.094013  ... -0.555498 -0.020469 -0.185789\n",
              "35813   1.838002  0.005284  1.831089  ...  1.177196 -0.020469 -0.185789\n",
              "35814   1.838002  0.005284  1.831089  ...  1.177196 -0.020469 -0.185789\n",
              "\n",
              "[35815 rows x 11 columns]"
            ]
          },
          "metadata": {
            "tags": []
          },
          "execution_count": 9
        }
      ]
    },
    {
      "cell_type": "code",
      "metadata": {
        "id": "nwdbnm7DPtj2",
        "outputId": "2d388d29-315b-4b5e-8332-9df333da4359",
        "colab": {
          "base_uri": "https://localhost:8080/",
          "height": 225
        }
      },
      "source": [
        "mitm.isnull().sum()"
      ],
      "execution_count": null,
      "outputs": [
        {
          "output_type": "execute_result",
          "data": {
            "text/plain": [
              "frame_len    0\n",
              "ttl          0\n",
              "tot_len      0\n",
              "ip_id        0\n",
              "win_size     0\n",
              "apdu_len     0\n",
              "type         0\n",
              "type_id      0\n",
              "causeTx      0\n",
              "asdu_add     0\n",
              "label        0\n",
              "dtype: int64"
            ]
          },
          "metadata": {
            "tags": []
          },
          "execution_count": 10
        }
      ]
    },
    {
      "cell_type": "code",
      "metadata": {
        "id": "NEmQkMDTQDJQ"
      },
      "source": [
        "X = mitm.iloc[:, 0:10].values #nilai variabel x diambil dari kolom 0-3 (inputan)\n",
        "y = mitm.iloc[:, 10].values #nilai variabel y diambil dari kolom ke 4 (output)"
      ],
      "execution_count": null,
      "outputs": []
    },
    {
      "cell_type": "code",
      "metadata": {
        "id": "mymGwltxQLaC"
      },
      "source": [
        "#TRAINING AND TESTING Features\n",
        "X_train , X_test , y_train , y_test = train_test_split (X,y,test_size = .7,random_state=12)"
      ],
      "execution_count": null,
      "outputs": []
    },
    {
      "cell_type": "code",
      "metadata": {
        "id": "mX6uiG2fQSKG",
        "outputId": "eb0d062e-41ce-4da5-9195-a8eca1310d4a",
        "colab": {
          "base_uri": "https://localhost:8080/",
          "height": 52
        }
      },
      "source": [
        "print('Feature data shape : ', X_train.shape, y_train.shape)\n",
        "print('Target data shape : ', X_test.shape, y_test.shape)"
      ],
      "execution_count": null,
      "outputs": [
        {
          "output_type": "stream",
          "text": [
            "Feature data shape :  (10744, 10) (10744,)\n",
            "Target data shape :  (25071, 10) (25071,)\n"
          ],
          "name": "stdout"
        }
      ]
    },
    {
      "cell_type": "code",
      "metadata": {
        "id": "A2mLPM7HP8Ok",
        "outputId": "e53a0a9b-8e5c-4288-834a-f34c86ff8e11",
        "colab": {
          "base_uri": "https://localhost:8080/",
          "height": 278
        }
      },
      "source": [
        "c3 = pd.DataFrame(data=y_train,columns=[\"label\"])\n",
        "c3.label.value_counts().plot(kind='bar', title='Count (target)');"
      ],
      "execution_count": null,
      "outputs": [
        {
          "output_type": "display_data",
          "data": {
            "image/png": "[encoded data removed]",
            "text/plain": [
              "<Figure size 432x288 with 1 Axes>"
            ]
          },
          "metadata": {
            "tags": [],
            "needs_background": "light"
          }
        }
      ]
    },
    {
      "cell_type": "code",
      "metadata": {
        "id": "QgNAgD3-QXJr",
        "outputId": "29e927ef-7a17-4787-a210-7cd4042d1132",
        "colab": {
          "base_uri": "https://localhost:8080/",
          "height": 282
        }
      },
      "source": [
        "from numpy import where\n",
        "from matplotlib import pyplot\n",
        "from collections import Counter\n",
        "print(sorted(Counter(y_train).items()))\n",
        "\n",
        "counter = Counter(y_train)\n",
        "\n",
        "for label, _ in counter.items():\n",
        "\trow_ix = where(y_train == label)[0]\n",
        "\tpyplot.scatter(X_train[row_ix, 0], X_train[row_ix, 1], label=str(label))\n",
        "pyplot.legend()\n",
        "pyplot.show()"
      ],
      "execution_count": null,
      "outputs": [
        {
          "output_type": "stream",
          "text": [
            "[(0, 10386), (1, 358)]\n"
          ],
          "name": "stdout"
        },
        {
          "output_type": "display_data",
          "data": {
            "image/png": "[encoded data removed]",
            "text/plain": [
              "<Figure size 432x288 with 1 Axes>"
            ]
          },
          "metadata": {
            "tags": [],
            "needs_background": "light"
          }
        }
      ]
    },
    {
      "cell_type": "code",
      "metadata": {
        "id": "Kfa3ajK1Qor6",
        "outputId": "53b302d4-88af-41ec-e0dd-b482b40045bd",
        "colab": {
          "base_uri": "https://localhost:8080/",
          "height": 72
        }
      },
      "source": [
        "from imblearn.over_sampling import SMOTE\n",
        "\n",
        "sm = SMOTE(random_state=12, ratio = 1.0)\n",
        "x_train_res, y_train_res = sm.fit_sample(X_train, y_train)\n",
        "\n",
        "#X_test, y_test = sm.fit_sample(X_test, y_test)\n",
        "#y_test = to_categorical(y_test)"
      ],
      "execution_count": null,
      "outputs": [
        {
          "output_type": "stream",
          "text": [
            "/usr/local/lib/python3.6/dist-packages/sklearn/utils/deprecation.py:87: FutureWarning: Function safe_indexing is deprecated; safe_indexing is deprecated in version 0.22 and will be removed in version 0.24.\n",
            "  warnings.warn(msg, category=FutureWarning)\n"
          ],
          "name": "stderr"
        }
      ]
    },
    {
      "cell_type": "code",
      "metadata": {
        "id": "u7urC7BxNsh_",
        "outputId": "d49202ef-03ab-4068-970d-392361a68377",
        "colab": {
          "base_uri": "https://localhost:8080/",
          "height": 278
        }
      },
      "source": [
        "c = pd.DataFrame(data=y_train_res,columns=[\"label\"])\n",
        "c.label.value_counts().plot(kind='bar', title='Count (target)');"
      ],
      "execution_count": null,
      "outputs": [
        {
          "output_type": "display_data",
          "data": {
            "image/png": "[encoded data removed]",
            "text/plain": [
              "<Figure size 432x288 with 1 Axes>"
            ]
          },
          "metadata": {
            "tags": [],
            "needs_background": "light"
          }
        }
      ]
    },
    {
      "cell_type": "code",
      "metadata": {
        "id": "iBwbUvrAQrhQ",
        "outputId": "0c2eba1e-5f6e-4340-ef8d-99d77b6c84b1",
        "colab": {
          "base_uri": "https://localhost:8080/",
          "height": 282
        }
      },
      "source": [
        "from numpy import where\n",
        "from matplotlib import pyplot\n",
        "print(sorted(Counter(y_train_res).items()))\n",
        "\n",
        "counter = Counter(y_train_res)\n",
        "\n",
        "for label, _ in counter.items():\n",
        "\trow_ix = where(y_train_res == label)[0]\n",
        "\tpyplot.scatter(x_train_res[row_ix, 0], x_train_res[row_ix, 1], label=str(label))\n",
        "pyplot.legend()\n",
        "pyplot.show()"
      ],
      "execution_count": null,
      "outputs": [
        {
          "output_type": "stream",
          "text": [
            "[(0, 10386), (1, 10386)]\n"
          ],
          "name": "stdout"
        },
        {
          "output_type": "display_data",
          "data": {
            "image/png": "[encoded data removed]",
            "text/plain": [
              "<Figure size 432x288 with 1 Axes>"
            ]
          },
          "metadata": {
            "tags": [],
            "needs_background": "light"
          }
        }
      ]
    },
    {
      "cell_type": "code",
      "metadata": {
        "id": "8CnGJC5MagOK",
        "outputId": "1d1490b4-c29b-4969-800f-26c83afe32bf",
        "colab": {
          "base_uri": "https://localhost:8080/",
          "height": 72
        }
      },
      "source": [
        "#smote testing\n",
        "sm = SMOTE(random_state=12, ratio = 1.0)\n",
        "x_test_res, y_test_res = sm.fit_sample(X_test, y_test)"
      ],
      "execution_count": null,
      "outputs": [
        {
          "output_type": "stream",
          "text": [
            "/usr/local/lib/python3.6/dist-packages/sklearn/utils/deprecation.py:87: FutureWarning: Function safe_indexing is deprecated; safe_indexing is deprecated in version 0.22 and will be removed in version 0.24.\n",
            "  warnings.warn(msg, category=FutureWarning)\n"
          ],
          "name": "stderr"
        }
      ]
    },
    {
      "cell_type": "code",
      "metadata": {
        "id": "QJdaI3omS6ph"
      },
      "source": [
        "#SCALER\n",
        "sc = MinMaxScaler()\n",
        "X_train = sc.fit_transform(x_train_res)\n",
        "X_test = sc.fit_transform(x_test_res)"
      ],
      "execution_count": null,
      "outputs": []
    },
    {
      "cell_type": "code",
      "metadata": {
        "id": "LRnfem7WTGkE"
      },
      "source": [
        "from keras.utils.np_utils import to_categorical\n",
        "y_train = to_categorical(y_train_res)\n",
        "y_test = to_categorical(y_test_res)"
      ],
      "execution_count": null,
      "outputs": []
    },
    {
      "cell_type": "code",
      "metadata": {
        "id": "CmnIqm7D8gsB",
        "outputId": "52274677-c4bf-470b-f47d-24ae1c0ec453",
        "colab": {
          "base_uri": "https://localhost:8080/",
          "height": 243
        }
      },
      "source": [
        "X_train"
      ],
      "execution_count": null,
      "outputs": [
        {
          "output_type": "execute_result",
          "data": {
            "text/plain": [
              "array([[0.33333333, 0.        , 0.33333333, ..., 1.        , 0.02777778,\n",
              "        0.        ],\n",
              "       [0.33333333, 0.        , 0.33333333, ..., 1.        , 0.02777778,\n",
              "        0.        ],\n",
              "       [0.33333333, 0.        , 0.33333333, ..., 1.        , 0.        ,\n",
              "        0.        ],\n",
              "       ...,\n",
              "       [0.33333333, 0.        , 0.33333333, ..., 0.        , 1.        ,\n",
              "        0.        ],\n",
              "       [0.33333333, 0.        , 0.33333333, ..., 0.        , 1.        ,\n",
              "        0.        ],\n",
              "       [0.33333333, 0.        , 0.33333333, ..., 0.        , 1.        ,\n",
              "        0.        ]])"
            ]
          },
          "metadata": {
            "tags": []
          },
          "execution_count": 22
        }
      ]
    },
    {
      "cell_type": "code",
      "metadata": {
        "id": "sWXTTCXy9ic6",
        "outputId": "58f6d27b-26cb-4727-d2bb-06ac0bdae6ba",
        "colab": {
          "base_uri": "https://localhost:8080/",
          "height": 424
        }
      },
      "source": [
        "df = pd.DataFrame(data=X_train,columns=[\"frame_len\",\"ttl\",\"tot_len\",\"ip_id\",\"win_size\",\"apdu_len\",\"type\",\"type_id\",\"causeTX\",\"asdu_add\"])\n",
        "df"
      ],
      "execution_count": null,
      "outputs": [
        {
          "output_type": "execute_result",
          "data": {
            "text/html": [
              "<div>\n",
              "<style scoped>\n",
              "    .dataframe tbody tr th:only-of-type {\n",
              "        vertical-align: middle;\n",
              "    }\n",
              "\n",
              "    .dataframe tbody tr th {\n",
              "        vertical-align: top;\n",
              "    }\n",
              "\n",
              "    .dataframe thead th {\n",
              "        text-align: right;\n",
              "    }\n",
              "</style>\n",
              "<table border=\"1\" class=\"dataframe\">\n",
              "  <thead>\n",
              "    <tr style=\"text-align: right;\">\n",
              "      <th></th>\n",
              "      <th>frame_len</th>\n",
              "      <th>ttl</th>\n",
              "      <th>tot_len</th>\n",
              "      <th>ip_id</th>\n",
              "      <th>win_size</th>\n",
              "      <th>apdu_len</th>\n",
              "      <th>type</th>\n",
              "      <th>type_id</th>\n",
              "      <th>causeTX</th>\n",
              "      <th>asdu_add</th>\n",
              "    </tr>\n",
              "  </thead>\n",
              "  <tbody>\n",
              "    <tr>\n",
              "      <th>0</th>\n",
              "      <td>0.333333</td>\n",
              "      <td>0.0</td>\n",
              "      <td>0.333333</td>\n",
              "      <td>0.813374</td>\n",
              "      <td>0.006884</td>\n",
              "      <td>1.000000</td>\n",
              "      <td>0.0</td>\n",
              "      <td>1.0</td>\n",
              "      <td>0.027778</td>\n",
              "      <td>0.0</td>\n",
              "    </tr>\n",
              "    <tr>\n",
              "      <th>1</th>\n",
              "      <td>0.333333</td>\n",
              "      <td>0.0</td>\n",
              "      <td>0.333333</td>\n",
              "      <td>0.858375</td>\n",
              "      <td>0.006884</td>\n",
              "      <td>1.000000</td>\n",
              "      <td>0.0</td>\n",
              "      <td>1.0</td>\n",
              "      <td>0.027778</td>\n",
              "      <td>0.0</td>\n",
              "    </tr>\n",
              "    <tr>\n",
              "      <th>2</th>\n",
              "      <td>0.333333</td>\n",
              "      <td>0.0</td>\n",
              "      <td>0.333333</td>\n",
              "      <td>0.549197</td>\n",
              "      <td>0.000000</td>\n",
              "      <td>1.000000</td>\n",
              "      <td>0.0</td>\n",
              "      <td>1.0</td>\n",
              "      <td>0.000000</td>\n",
              "      <td>0.0</td>\n",
              "    </tr>\n",
              "    <tr>\n",
              "      <th>3</th>\n",
              "      <td>0.333333</td>\n",
              "      <td>0.0</td>\n",
              "      <td>0.333333</td>\n",
              "      <td>0.859046</td>\n",
              "      <td>0.006884</td>\n",
              "      <td>1.000000</td>\n",
              "      <td>0.0</td>\n",
              "      <td>1.0</td>\n",
              "      <td>0.027778</td>\n",
              "      <td>0.0</td>\n",
              "    </tr>\n",
              "    <tr>\n",
              "      <th>4</th>\n",
              "      <td>0.333333</td>\n",
              "      <td>0.0</td>\n",
              "      <td>0.333333</td>\n",
              "      <td>0.808048</td>\n",
              "      <td>0.006884</td>\n",
              "      <td>1.000000</td>\n",
              "      <td>0.0</td>\n",
              "      <td>1.0</td>\n",
              "      <td>0.027778</td>\n",
              "      <td>0.0</td>\n",
              "    </tr>\n",
              "    <tr>\n",
              "      <th>...</th>\n",
              "      <td>...</td>\n",
              "      <td>...</td>\n",
              "      <td>...</td>\n",
              "      <td>...</td>\n",
              "      <td>...</td>\n",
              "      <td>...</td>\n",
              "      <td>...</td>\n",
              "      <td>...</td>\n",
              "      <td>...</td>\n",
              "      <td>...</td>\n",
              "    </tr>\n",
              "    <tr>\n",
              "      <th>20767</th>\n",
              "      <td>0.333333</td>\n",
              "      <td>0.0</td>\n",
              "      <td>0.333333</td>\n",
              "      <td>0.495743</td>\n",
              "      <td>1.000000</td>\n",
              "      <td>0.333333</td>\n",
              "      <td>0.0</td>\n",
              "      <td>0.0</td>\n",
              "      <td>1.000000</td>\n",
              "      <td>0.0</td>\n",
              "    </tr>\n",
              "    <tr>\n",
              "      <th>20768</th>\n",
              "      <td>0.333333</td>\n",
              "      <td>0.0</td>\n",
              "      <td>0.333333</td>\n",
              "      <td>0.495743</td>\n",
              "      <td>1.000000</td>\n",
              "      <td>0.333333</td>\n",
              "      <td>0.0</td>\n",
              "      <td>0.0</td>\n",
              "      <td>1.000000</td>\n",
              "      <td>0.0</td>\n",
              "    </tr>\n",
              "    <tr>\n",
              "      <th>20769</th>\n",
              "      <td>0.333333</td>\n",
              "      <td>0.0</td>\n",
              "      <td>0.333333</td>\n",
              "      <td>0.495743</td>\n",
              "      <td>1.000000</td>\n",
              "      <td>0.333333</td>\n",
              "      <td>0.0</td>\n",
              "      <td>0.0</td>\n",
              "      <td>1.000000</td>\n",
              "      <td>0.0</td>\n",
              "    </tr>\n",
              "    <tr>\n",
              "      <th>20770</th>\n",
              "      <td>0.333333</td>\n",
              "      <td>0.0</td>\n",
              "      <td>0.333333</td>\n",
              "      <td>0.495743</td>\n",
              "      <td>1.000000</td>\n",
              "      <td>0.333333</td>\n",
              "      <td>0.0</td>\n",
              "      <td>0.0</td>\n",
              "      <td>1.000000</td>\n",
              "      <td>0.0</td>\n",
              "    </tr>\n",
              "    <tr>\n",
              "      <th>20771</th>\n",
              "      <td>0.333333</td>\n",
              "      <td>0.0</td>\n",
              "      <td>0.333333</td>\n",
              "      <td>0.495743</td>\n",
              "      <td>1.000000</td>\n",
              "      <td>0.333333</td>\n",
              "      <td>0.0</td>\n",
              "      <td>0.0</td>\n",
              "      <td>1.000000</td>\n",
              "      <td>0.0</td>\n",
              "    </tr>\n",
              "  </tbody>\n",
              "</table>\n",
              "<p>20772 rows × 10 columns</p>\n",
              "</div>"
            ],
            "text/plain": [
              "       frame_len  ttl   tot_len     ip_id  ...  type  type_id   causeTX  asdu_add\n",
              "0       0.333333  0.0  0.333333  0.813374  ...   0.0      1.0  0.027778       0.0\n",
              "1       0.333333  0.0  0.333333  0.858375  ...   0.0      1.0  0.027778       0.0\n",
              "2       0.333333  0.0  0.333333  0.549197  ...   0.0      1.0  0.000000       0.0\n",
              "3       0.333333  0.0  0.333333  0.859046  ...   0.0      1.0  0.027778       0.0\n",
              "4       0.333333  0.0  0.333333  0.808048  ...   0.0      1.0  0.027778       0.0\n",
              "...          ...  ...       ...       ...  ...   ...      ...       ...       ...\n",
              "20767   0.333333  0.0  0.333333  0.495743  ...   0.0      0.0  1.000000       0.0\n",
              "20768   0.333333  0.0  0.333333  0.495743  ...   0.0      0.0  1.000000       0.0\n",
              "20769   0.333333  0.0  0.333333  0.495743  ...   0.0      0.0  1.000000       0.0\n",
              "20770   0.333333  0.0  0.333333  0.495743  ...   0.0      0.0  1.000000       0.0\n",
              "20771   0.333333  0.0  0.333333  0.495743  ...   0.0      0.0  1.000000       0.0\n",
              "\n",
              "[20772 rows x 10 columns]"
            ]
          },
          "metadata": {
            "tags": []
          },
          "execution_count": 23
        }
      ]
    },
    {
      "cell_type": "code",
      "metadata": {
        "id": "JNfBlBfR8oYm",
        "outputId": "7bb49f64-568d-41e3-e221-ef1f011b2899",
        "colab": {
          "base_uri": "https://localhost:8080/",
          "height": 243
        }
      },
      "source": [
        "X_test"
      ],
      "execution_count": null,
      "outputs": [
        {
          "output_type": "execute_result",
          "data": {
            "text/plain": [
              "array([[3.33333333e-01, 1.00000000e+00, 8.60465116e-01, ...,\n",
              "        1.00000000e+00, 1.66666667e-01, 4.57770657e-05],\n",
              "       [0.00000000e+00, 1.00000000e+00, 7.90697674e-01, ...,\n",
              "        9.70873786e-01, 1.42857143e-01, 4.57770657e-05],\n",
              "       [0.00000000e+00, 1.00000000e+00, 7.90697674e-01, ...,\n",
              "        9.70873786e-01, 1.42857143e-01, 4.57770657e-05],\n",
              "       ...,\n",
              "       [3.33333333e-01, 1.00000000e+00, 8.60465116e-01, ...,\n",
              "        1.06796117e-01, 1.00000000e+00, 4.57770657e-05],\n",
              "       [3.33333333e-01, 1.00000000e+00, 8.60465116e-01, ...,\n",
              "        1.06796117e-01, 1.00000000e+00, 4.57770657e-05],\n",
              "       [3.33333333e-01, 1.00000000e+00, 8.60465116e-01, ...,\n",
              "        1.06796117e-01, 1.00000000e+00, 4.57770657e-05]])"
            ]
          },
          "metadata": {
            "tags": []
          },
          "execution_count": 24
        }
      ]
    },
    {
      "cell_type": "code",
      "metadata": {
        "id": "hwhUJEM1-2Sj",
        "outputId": "368e26c1-a91d-4b1c-8c3e-7e3cbca5712d",
        "colab": {
          "base_uri": "https://localhost:8080/",
          "height": 424
        }
      },
      "source": [
        "df1 = pd.DataFrame(data=X_test,columns=[\"frame_len\",\"ttl\",\"tot_len\",\"ip_id\",\"win_size\",\"apdu_len\",\"type\",\"type_id\",\"causeTX\",\"asdu_add\"])\n",
        "df1"
      ],
      "execution_count": null,
      "outputs": [
        {
          "output_type": "execute_result",
          "data": {
            "text/html": [
              "<div>\n",
              "<style scoped>\n",
              "    .dataframe tbody tr th:only-of-type {\n",
              "        vertical-align: middle;\n",
              "    }\n",
              "\n",
              "    .dataframe tbody tr th {\n",
              "        vertical-align: top;\n",
              "    }\n",
              "\n",
              "    .dataframe thead th {\n",
              "        text-align: right;\n",
              "    }\n",
              "</style>\n",
              "<table border=\"1\" class=\"dataframe\">\n",
              "  <thead>\n",
              "    <tr style=\"text-align: right;\">\n",
              "      <th></th>\n",
              "      <th>frame_len</th>\n",
              "      <th>ttl</th>\n",
              "      <th>tot_len</th>\n",
              "      <th>ip_id</th>\n",
              "      <th>win_size</th>\n",
              "      <th>apdu_len</th>\n",
              "      <th>type</th>\n",
              "      <th>type_id</th>\n",
              "      <th>causeTX</th>\n",
              "      <th>asdu_add</th>\n",
              "    </tr>\n",
              "  </thead>\n",
              "  <tbody>\n",
              "    <tr>\n",
              "      <th>0</th>\n",
              "      <td>0.333333</td>\n",
              "      <td>1.0</td>\n",
              "      <td>0.860465</td>\n",
              "      <td>0.620081</td>\n",
              "      <td>0.013825</td>\n",
              "      <td>1.0</td>\n",
              "      <td>0.0</td>\n",
              "      <td>1.000000</td>\n",
              "      <td>0.166667</td>\n",
              "      <td>0.000046</td>\n",
              "    </tr>\n",
              "    <tr>\n",
              "      <th>1</th>\n",
              "      <td>0.000000</td>\n",
              "      <td>1.0</td>\n",
              "      <td>0.790698</td>\n",
              "      <td>0.809888</td>\n",
              "      <td>0.006989</td>\n",
              "      <td>0.7</td>\n",
              "      <td>0.0</td>\n",
              "      <td>0.970874</td>\n",
              "      <td>0.142857</td>\n",
              "      <td>0.000046</td>\n",
              "    </tr>\n",
              "    <tr>\n",
              "      <th>2</th>\n",
              "      <td>0.000000</td>\n",
              "      <td>1.0</td>\n",
              "      <td>0.790698</td>\n",
              "      <td>0.478492</td>\n",
              "      <td>0.006989</td>\n",
              "      <td>0.7</td>\n",
              "      <td>0.0</td>\n",
              "      <td>0.970874</td>\n",
              "      <td>0.142857</td>\n",
              "      <td>0.000046</td>\n",
              "    </tr>\n",
              "    <tr>\n",
              "      <th>3</th>\n",
              "      <td>0.333333</td>\n",
              "      <td>1.0</td>\n",
              "      <td>0.860465</td>\n",
              "      <td>0.033692</td>\n",
              "      <td>0.013825</td>\n",
              "      <td>1.0</td>\n",
              "      <td>0.0</td>\n",
              "      <td>1.000000</td>\n",
              "      <td>0.166667</td>\n",
              "      <td>0.000046</td>\n",
              "    </tr>\n",
              "    <tr>\n",
              "      <th>4</th>\n",
              "      <td>0.000000</td>\n",
              "      <td>1.0</td>\n",
              "      <td>0.790698</td>\n",
              "      <td>0.077592</td>\n",
              "      <td>0.006989</td>\n",
              "      <td>0.7</td>\n",
              "      <td>0.0</td>\n",
              "      <td>0.970874</td>\n",
              "      <td>0.142857</td>\n",
              "      <td>0.000046</td>\n",
              "    </tr>\n",
              "    <tr>\n",
              "      <th>...</th>\n",
              "      <td>...</td>\n",
              "      <td>...</td>\n",
              "      <td>...</td>\n",
              "      <td>...</td>\n",
              "      <td>...</td>\n",
              "      <td>...</td>\n",
              "      <td>...</td>\n",
              "      <td>...</td>\n",
              "      <td>...</td>\n",
              "      <td>...</td>\n",
              "    </tr>\n",
              "    <tr>\n",
              "      <th>48463</th>\n",
              "      <td>0.333333</td>\n",
              "      <td>1.0</td>\n",
              "      <td>0.860465</td>\n",
              "      <td>0.495720</td>\n",
              "      <td>1.000000</td>\n",
              "      <td>0.8</td>\n",
              "      <td>0.0</td>\n",
              "      <td>0.106796</td>\n",
              "      <td>1.000000</td>\n",
              "      <td>0.000046</td>\n",
              "    </tr>\n",
              "    <tr>\n",
              "      <th>48464</th>\n",
              "      <td>0.333333</td>\n",
              "      <td>1.0</td>\n",
              "      <td>0.860465</td>\n",
              "      <td>0.495720</td>\n",
              "      <td>1.000000</td>\n",
              "      <td>0.8</td>\n",
              "      <td>0.0</td>\n",
              "      <td>0.106796</td>\n",
              "      <td>1.000000</td>\n",
              "      <td>0.000046</td>\n",
              "    </tr>\n",
              "    <tr>\n",
              "      <th>48465</th>\n",
              "      <td>0.333333</td>\n",
              "      <td>1.0</td>\n",
              "      <td>0.860465</td>\n",
              "      <td>0.495720</td>\n",
              "      <td>1.000000</td>\n",
              "      <td>0.8</td>\n",
              "      <td>0.0</td>\n",
              "      <td>0.106796</td>\n",
              "      <td>1.000000</td>\n",
              "      <td>0.000046</td>\n",
              "    </tr>\n",
              "    <tr>\n",
              "      <th>48466</th>\n",
              "      <td>0.333333</td>\n",
              "      <td>1.0</td>\n",
              "      <td>0.860465</td>\n",
              "      <td>0.495720</td>\n",
              "      <td>1.000000</td>\n",
              "      <td>0.8</td>\n",
              "      <td>0.0</td>\n",
              "      <td>0.106796</td>\n",
              "      <td>1.000000</td>\n",
              "      <td>0.000046</td>\n",
              "    </tr>\n",
              "    <tr>\n",
              "      <th>48467</th>\n",
              "      <td>0.333333</td>\n",
              "      <td>1.0</td>\n",
              "      <td>0.860465</td>\n",
              "      <td>0.495720</td>\n",
              "      <td>1.000000</td>\n",
              "      <td>0.8</td>\n",
              "      <td>0.0</td>\n",
              "      <td>0.106796</td>\n",
              "      <td>1.000000</td>\n",
              "      <td>0.000046</td>\n",
              "    </tr>\n",
              "  </tbody>\n",
              "</table>\n",
              "<p>48468 rows × 10 columns</p>\n",
              "</div>"
            ],
            "text/plain": [
              "       frame_len  ttl   tot_len     ip_id  ...  type   type_id   causeTX  asdu_add\n",
              "0       0.333333  1.0  0.860465  0.620081  ...   0.0  1.000000  0.166667  0.000046\n",
              "1       0.000000  1.0  0.790698  0.809888  ...   0.0  0.970874  0.142857  0.000046\n",
              "2       0.000000  1.0  0.790698  0.478492  ...   0.0  0.970874  0.142857  0.000046\n",
              "3       0.333333  1.0  0.860465  0.033692  ...   0.0  1.000000  0.166667  0.000046\n",
              "4       0.000000  1.0  0.790698  0.077592  ...   0.0  0.970874  0.142857  0.000046\n",
              "...          ...  ...       ...       ...  ...   ...       ...       ...       ...\n",
              "48463   0.333333  1.0  0.860465  0.495720  ...   0.0  0.106796  1.000000  0.000046\n",
              "48464   0.333333  1.0  0.860465  0.495720  ...   0.0  0.106796  1.000000  0.000046\n",
              "48465   0.333333  1.0  0.860465  0.495720  ...   0.0  0.106796  1.000000  0.000046\n",
              "48466   0.333333  1.0  0.860465  0.495720  ...   0.0  0.106796  1.000000  0.000046\n",
              "48467   0.333333  1.0  0.860465  0.495720  ...   0.0  0.106796  1.000000  0.000046\n",
              "\n",
              "[48468 rows x 10 columns]"
            ]
          },
          "metadata": {
            "tags": []
          },
          "execution_count": 25
        }
      ]
    },
    {
      "cell_type": "code",
      "metadata": {
        "id": "RuynDboK_HcO"
      },
      "source": [
        ""
      ],
      "execution_count": null,
      "outputs": []
    },
    {
      "cell_type": "code",
      "metadata": {
        "id": "6D5G8nvwTI5l",
        "outputId": "4b1e1860-5bed-4308-cce4-eca4925543f2",
        "colab": {
          "base_uri": "https://localhost:8080/",
          "height": 332
        }
      },
      "source": [
        "model = Sequential()\n",
        "model.add(Dense(10, input_dim=10, activation='relu'))\n",
        "model.add(Dense(25, activation='relu'))\n",
        "model.add(Dense(2, activation='sigmoid'))\n",
        "model.summary()"
      ],
      "execution_count": null,
      "outputs": [
        {
          "output_type": "stream",
          "text": [
            "WARNING:tensorflow:From /tensorflow-1.15.2/python3.6/tensorflow_core/python/ops/resource_variable_ops.py:1630: calling BaseResourceVariable.__init__ (from tensorflow.python.ops.resource_variable_ops) with constraint is deprecated and will be removed in a future version.\n",
            "Instructions for updating:\n",
            "If using Keras pass *_constraint arguments to layers.\n",
            "Model: \"sequential_1\"\n",
            "_________________________________________________________________\n",
            "Layer (type)                 Output Shape              Param #   \n",
            "=================================================================\n",
            "dense_1 (Dense)              (None, 10)                110       \n",
            "_________________________________________________________________\n",
            "dense_2 (Dense)              (None, 25)                275       \n",
            "_________________________________________________________________\n",
            "dense_3 (Dense)              (None, 2)                 52        \n",
            "=================================================================\n",
            "Total params: 437\n",
            "Trainable params: 437\n",
            "Non-trainable params: 0\n",
            "_________________________________________________________________\n"
          ],
          "name": "stdout"
        }
      ]
    },
    {
      "cell_type": "code",
      "metadata": {
        "id": "RATWx6VHTPam",
        "outputId": "c920fa1a-9c78-44d8-a4cb-9d9e305e05d8",
        "colab": {
          "base_uri": "https://localhost:8080/",
          "height": 489
        }
      },
      "source": [
        "model.compile(optimizer='adam',loss='binary_crossentropy',metrics=['acc'])\n",
        "history = model.fit(X_train, y_train, validation_data=(X_test, y_test),epochs=10,batch_size=128,)"
      ],
      "execution_count": null,
      "outputs": [
        {
          "output_type": "stream",
          "text": [
            "WARNING:tensorflow:From /tensorflow-1.15.2/python3.6/tensorflow_core/python/ops/nn_impl.py:183: where (from tensorflow.python.ops.array_ops) is deprecated and will be removed in a future version.\n",
            "Instructions for updating:\n",
            "Use tf.where in 2.0, which has the same broadcast rule as np.where\n",
            "WARNING:tensorflow:From /tensorflow-1.15.2/python3.6/keras/backend/tensorflow_backend.py:422: The name tf.global_variables is deprecated. Please use tf.compat.v1.global_variables instead.\n",
            "\n",
            "Train on 20772 samples, validate on 48468 samples\n",
            "Epoch 1/10\n",
            "20772/20772 [==============================] - 1s 42us/step - loss: 0.4465 - acc: 0.8817 - val_loss: 0.3290 - val_acc: 0.9995\n",
            "Epoch 2/10\n",
            "20772/20772 [==============================] - 1s 26us/step - loss: 0.0347 - acc: 1.0000 - val_loss: 0.3331 - val_acc: 0.9994\n",
            "Epoch 3/10\n",
            "20772/20772 [==============================] - 1s 25us/step - loss: 0.0076 - acc: 1.0000 - val_loss: 0.3239 - val_acc: 0.9994\n",
            "Epoch 4/10\n",
            "20772/20772 [==============================] - 1s 25us/step - loss: 0.0037 - acc: 1.0000 - val_loss: 0.3295 - val_acc: 0.9994\n",
            "Epoch 5/10\n",
            "20772/20772 [==============================] - 1s 25us/step - loss: 0.0022 - acc: 1.0000 - val_loss: 0.3364 - val_acc: 0.9994\n",
            "Epoch 6/10\n",
            "20772/20772 [==============================] - 1s 25us/step - loss: 0.0015 - acc: 1.0000 - val_loss: 0.3377 - val_acc: 0.9994\n",
            "Epoch 7/10\n",
            "20772/20772 [==============================] - 0s 24us/step - loss: 0.0011 - acc: 1.0000 - val_loss: 0.3394 - val_acc: 0.9993\n",
            "Epoch 8/10\n",
            "20772/20772 [==============================] - 1s 25us/step - loss: 7.7424e-04 - acc: 1.0000 - val_loss: 0.3365 - val_acc: 0.9991\n",
            "Epoch 9/10\n",
            "20772/20772 [==============================] - 1s 25us/step - loss: 5.8924e-04 - acc: 1.0000 - val_loss: 0.3346 - val_acc: 0.9990\n",
            "Epoch 10/10\n",
            "20772/20772 [==============================] - 1s 25us/step - loss: 4.5794e-04 - acc: 1.0000 - val_loss: 0.3312 - val_acc: 0.9990\n"
          ],
          "name": "stdout"
        }
      ]
    },
    {
      "cell_type": "code",
      "metadata": {
        "id": "_piZE9GkTTJJ",
        "outputId": "7fa6d480-4841-45dc-bc2e-d8e2d51e799a",
        "colab": {
          "base_uri": "https://localhost:8080/",
          "height": 104
        }
      },
      "source": [
        "score = model.evaluate(X_train, y_train, batch_size=128)\n",
        "print(\"\\n%s: %.2f%%\" % (model.metrics_names[0], score[0]))\n",
        "print(\"\\n%s: %.2f%%\" % (model.metrics_names[1], score[1]*100))"
      ],
      "execution_count": null,
      "outputs": [
        {
          "output_type": "stream",
          "text": [
            "20772/20772 [==============================] - 0s 5us/step\n",
            "\n",
            "loss: 0.00%\n",
            "\n",
            "acc: 100.00%\n"
          ],
          "name": "stdout"
        }
      ]
    },
    {
      "cell_type": "code",
      "metadata": {
        "id": "onCWIm0lTjOp",
        "outputId": "0aeef274-a65c-4f4e-cc54-6672fcbd9d52",
        "colab": {
          "base_uri": "https://localhost:8080/",
          "height": 139
        }
      },
      "source": [
        "predict_train = model.predict(X_train)\n",
        "predict_train = predict_train > 0.5\n",
        "predict_train"
      ],
      "execution_count": null,
      "outputs": [
        {
          "output_type": "execute_result",
          "data": {
            "text/plain": [
              "array([[ True, False],\n",
              "       [ True, False],\n",
              "       [ True, False],\n",
              "       ...,\n",
              "       [False,  True],\n",
              "       [False,  True],\n",
              "       [False,  True]])"
            ]
          },
          "metadata": {
            "tags": []
          },
          "execution_count": 29
        }
      ]
    },
    {
      "cell_type": "code",
      "metadata": {
        "id": "Brx89QEoTleC",
        "outputId": "9b64ecf4-ca0e-422d-a9d7-17cb1fecdd07",
        "colab": {
          "base_uri": "https://localhost:8080/",
          "height": 260
        }
      },
      "source": [
        "print('Data Training : ', X_train.shape, y_train.shape)\n",
        "print('Data Testing : ', X_test.shape, y_test.shape)\n",
        "\n",
        "cm = confusion_matrix(y_train.argmax(axis=1),predict_train.argmax(axis=1))\n",
        "print(classification_report(y_train,predict_train))\n",
        "\n",
        "print(\"\\nakurasi: %.0f%%\" % (score[1]*100))"
      ],
      "execution_count": null,
      "outputs": [
        {
          "output_type": "stream",
          "text": [
            "Data Training :  (20772, 10) (20772, 2)\n",
            "Data Testing :  (48468, 10) (48468, 2)\n",
            "              precision    recall  f1-score   support\n",
            "\n",
            "           0       1.00      1.00      1.00     10386\n",
            "           1       1.00      1.00      1.00     10386\n",
            "\n",
            "   micro avg       1.00      1.00      1.00     20772\n",
            "   macro avg       1.00      1.00      1.00     20772\n",
            "weighted avg       1.00      1.00      1.00     20772\n",
            " samples avg       1.00      1.00      1.00     20772\n",
            "\n",
            "\n",
            "akurasi: 100%\n"
          ],
          "name": "stdout"
        }
      ]
    },
    {
      "cell_type": "code",
      "metadata": {
        "id": "v_8ym_gHTn4j",
        "outputId": "792c5854-28dd-4ee5-9303-f4814611c8be",
        "colab": {
          "base_uri": "https://localhost:8080/",
          "height": 324
        }
      },
      "source": [
        "#agar lebih mudah membaca confusion matrix bisa kita tampilkan dalam bentuk plot,\n",
        "# keterangan dari plot, TN : True Negatif, FP: False positif, FN : False negatif, TP : true positif\n",
        "plt.clf()\n",
        "plt.imshow(cm, interpolation='nearest', cmap=plt.cm.Wistia)\n",
        "classNames = ['Negative','Positive']\n",
        "plt.title('Confusion Matrix')\n",
        "plt.ylabel('True label')\n",
        "plt.xlabel('Predicted label')\n",
        "tick_marks = np.arange(len(classNames))\n",
        "plt.xticks(tick_marks, classNames, rotation=45)\n",
        "plt.yticks(tick_marks, classNames)\n",
        "s = [['',''], ['', '']]\n",
        "for i in range(2):\n",
        "    for j in range(2):\n",
        "        plt.text(j,i, str(s[i][j])+\"\"+str(cm[i][j]))\n",
        "plt.show()"
      ],
      "execution_count": null,
      "outputs": [
        {
          "output_type": "display_data",
          "data": {
            "image/png": "[encoded data removed]",
            "text/plain": [
              "<Figure size 432x288 with 1 Axes>"
            ]
          },
          "metadata": {
            "tags": [],
            "needs_background": "light"
          }
        }
      ]
    },
    {
      "cell_type": "code",
      "metadata": {
        "id": "NRbOpchGTr46"
      },
      "source": [
        "P = cm[1][1] + cm[0][1]\n",
        "N = cm[1][0] + cm[0][0]\n",
        "TP = cm[1][1]\n",
        "TN = cm[0][0]\n",
        "FP = cm[0][1]\n",
        "FN = cm[1][0]"
      ],
      "execution_count": null,
      "outputs": []
    },
    {
      "cell_type": "code",
      "metadata": {
        "id": "BugZTWsYTufJ"
      },
      "source": [
        "TPR = TP/P\n",
        "TNR = TN/N\n",
        "FPR = FP/N\n",
        "FNR = FN/P\n",
        "Precision = TP / (TP + FP)\n",
        "NoPrecision = TN / (TN + FN)"
      ],
      "execution_count": null,
      "outputs": []
    },
    {
      "cell_type": "code",
      "metadata": {
        "id": "3CKml_MUTwP2",
        "outputId": "f795f123-1f00-402b-f8bb-071cd250c6e8",
        "colab": {
          "base_uri": "https://localhost:8080/",
          "height": 139
        }
      },
      "source": [
        "print(\"---------------------------------------------------------------------------------------------------------------------------------\")\n",
        "print(\"\\t\\t\\t\\t\\t\\t\\tEvaluation Measure\")\n",
        "print(\"---------------------------------------------------------------------------------------------------------------------------------\")\n",
        "print(\"|\\tMetode\\t|\\tTPR\\t|\\tTNR\\t|\\tFPR\\t|\\tFNR\\t|\\tPrecision\\t|\\tNo-Precision\\t|\")\n",
        "print(\"---------------------------------------------------------------------------------------------------------------------------------\")\n",
        "print(\"|\\tJST\\t|\\t%.4f%%\\t|\\t%.4f%%\\t|\\t%.4f%%\\t|\\t%.4f%%\\t|\\t%.4f%%\\t\\t|\\t%.4f%%\\t\\t|\" % (TPR, TNR, FPR, FNR, Precision, NoPrecision))\n",
        "print(\"---------------------------------------------------------------------------------------------------------------------------------\")"
      ],
      "execution_count": null,
      "outputs": [
        {
          "output_type": "stream",
          "text": [
            "---------------------------------------------------------------------------------------------------------------------------------\n",
            "\t\t\t\t\t\t\tEvaluation Measure\n",
            "---------------------------------------------------------------------------------------------------------------------------------\n",
            "|\tMetode\t|\tTPR\t|\tTNR\t|\tFPR\t|\tFNR\t|\tPrecision\t|\tNo-Precision\t|\n",
            "---------------------------------------------------------------------------------------------------------------------------------\n",
            "|\tJST\t|\t1.0000%\t|\t1.0000%\t|\t0.0000%\t|\t0.0000%\t|\t1.0000%\t\t|\t1.0000%\t\t|\n",
            "---------------------------------------------------------------------------------------------------------------------------------\n"
          ],
          "name": "stdout"
        }
      ]
    },
    {
      "cell_type": "code",
      "metadata": {
        "id": "FK31sAMN8Cg-",
        "outputId": "43d58418-0521-4600-e0e4-10783077a4cb",
        "colab": {
          "base_uri": "https://localhost:8080/",
          "height": 225
        }
      },
      "source": [
        "predict_test = model.predict(X_test)\n",
        "predict_test = predict_test > 0.5\n",
        "predict_test\n",
        "cm1 = confusion_matrix(y_test.argmax(axis=1),predict_test.argmax(axis=1))\n",
        "print(classification_report(y_test,predict_test))\n",
        "\n",
        "print(\"\\nakurasi: %.0f%%\" % (score[1]*100))"
      ],
      "execution_count": null,
      "outputs": [
        {
          "output_type": "stream",
          "text": [
            "              precision    recall  f1-score   support\n",
            "\n",
            "           0       1.00      1.00      1.00     24234\n",
            "           1       1.00      1.00      1.00     24234\n",
            "\n",
            "   micro avg       1.00      1.00      1.00     48468\n",
            "   macro avg       1.00      1.00      1.00     48468\n",
            "weighted avg       1.00      1.00      1.00     48468\n",
            " samples avg       1.00      1.00      1.00     48468\n",
            "\n",
            "\n",
            "akurasi: 100%\n"
          ],
          "name": "stdout"
        }
      ]
    },
    {
      "cell_type": "code",
      "metadata": {
        "id": "L6Iyl9FXYyCz",
        "outputId": "d5ae7b03-7c27-401a-de4f-389a742bb46e",
        "colab": {
          "base_uri": "https://localhost:8080/",
          "height": 324
        }
      },
      "source": [
        "plt.clf()\n",
        "plt.imshow(cm1, interpolation='nearest', cmap=plt.cm.Wistia)\n",
        "classNames = ['Negative','Positive']\n",
        "plt.title('Confusion Matrix')\n",
        "plt.ylabel('True label')\n",
        "plt.xlabel('Predicted label')\n",
        "tick_marks = np.arange(len(classNames))\n",
        "plt.xticks(tick_marks, classNames, rotation=45)\n",
        "plt.yticks(tick_marks, classNames)\n",
        "s = [['',''], ['', '']]\n",
        "for i in range(2):\n",
        "    for j in range(2):\n",
        "        plt.text(j,i, str(s[i][j])+\"\"+str(cm1[i][j]))\n",
        "plt.show()"
      ],
      "execution_count": null,
      "outputs": [
        {
          "output_type": "display_data",
          "data": {
            "image/png": "[encoded data removed]",
            "text/plain": [
              "<Figure size 432x288 with 1 Axes>"
            ]
          },
          "metadata": {
            "tags": [],
            "needs_background": "light"
          }
        }
      ]
    },
    {
      "cell_type": "code",
      "metadata": {
        "id": "TQnCGxwTZUlI"
      },
      "source": [
        "P1 = cm1[1][1] + cm1[0][1]\n",
        "N1 = cm1[1][0] + cm1[0][0]\n",
        "TP1 = cm1[1][1]\n",
        "TN1 = cm1[0][0]\n",
        "FP1 = cm1[0][1]\n",
        "FN1 = cm1[1][0]"
      ],
      "execution_count": null,
      "outputs": []
    },
    {
      "cell_type": "code",
      "metadata": {
        "id": "4uF3AxqGe6we"
      },
      "source": [
        "TPR1 = TP1/P1\n",
        "TNR1 = TN1/N1\n",
        "FPR1 = FP1/ (FP1 + TN1)\n",
        "FNR1 = FN1/ ( FN1 + TP1)\n",
        "Precision1 = TP1 / (TP1 + FP1)\n",
        "NoPrecision1 = TN1 / (TN1 + FN1)"
      ],
      "execution_count": null,
      "outputs": []
    },
    {
      "cell_type": "code",
      "metadata": {
        "id": "1UNCjvDkfKDL",
        "outputId": "fa976228-ccd8-4484-98e9-48296f45260d",
        "colab": {
          "base_uri": "https://localhost:8080/",
          "height": 139
        }
      },
      "source": [
        "print(\"---------------------------------------------------------------------------------------------------------------------------------\")\n",
        "print(\"\\t\\t\\t\\t\\t\\t\\tEvaluation Measure\")\n",
        "print(\"---------------------------------------------------------------------------------------------------------------------------------\")\n",
        "print(\"|\\tMetode\\t|\\tTPR\\t|\\tTNR\\t|\\tFPR\\t|\\tFNR\\t|\\tPrecision\\t|\\tNo-Precision\\t|\")\n",
        "print(\"---------------------------------------------------------------------------------------------------------------------------------\")\n",
        "print(\"|\\tJST\\t|\\t%.4f%%\\t|\\t%.4f%%\\t|\\t%.4f%%\\t|\\t%.4f%%\\t|\\t%.4f%%\\t\\t|\\t%.4f%%\\t\\t|\" % (TPR1, TNR1, FPR1, FNR1, Precision1, NoPrecision1))\n",
        "print(\"---------------------------------------------------------------------------------------------------------------------------------\")"
      ],
      "execution_count": null,
      "outputs": [
        {
          "output_type": "stream",
          "text": [
            "---------------------------------------------------------------------------------------------------------------------------------\n",
            "\t\t\t\t\t\t\tEvaluation Measure\n",
            "---------------------------------------------------------------------------------------------------------------------------------\n",
            "|\tMetode\t|\tTPR\t|\tTNR\t|\tFPR\t|\tFNR\t|\tPrecision\t|\tNo-Precision\t|\n",
            "---------------------------------------------------------------------------------------------------------------------------------\n",
            "|\tJST\t|\t1.0000%\t|\t0.9980%\t|\t0.0000%\t|\t0.0020%\t|\t1.0000%\t\t|\t0.9980%\t\t|\n",
            "---------------------------------------------------------------------------------------------------------------------------------\n"
          ],
          "name": "stdout"
        }
      ]
    },
    {
      "cell_type": "code",
      "metadata": {
        "id": "QDbD3UgDfcWi",
        "outputId": "a4b10392-9f96-44b1-eb50-43a1c5c23a47",
        "colab": {
          "base_uri": "https://localhost:8080/",
          "height": 34
        }
      },
      "source": [
        "akurasi1 = (TP1 + TN1)/ (TP1 + TN1 + FP1 + FN1)\n",
        "akurasi1"
      ],
      "execution_count": null,
      "outputs": [
        {
          "output_type": "execute_result",
          "data": {
            "text/plain": [
              "0.9990096558554098"
            ]
          },
          "metadata": {
            "tags": []
          },
          "execution_count": 40
        }
      ]
    }
  ]
}